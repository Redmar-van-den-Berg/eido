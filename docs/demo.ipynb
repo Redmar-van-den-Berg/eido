{
 "cells": [
  {
   "cell_type": "markdown",
   "metadata": {},
   "source": [
    "# `eido` usage demo\n",
    "The `eido` package can be used in two ways: on the command line and from within Python.\n",
    "\n",
    "## CLI usage\n",
    "To use the command line application one just needs two paths as arguments to the `eido` command: \n",
    "- a path to a project configuration file (`-p`/`--pep` option)\n",
    "- a path to a YAML formatted schema (`-s`/`--schema` option)\n",
    "\n",
    "Please refer to the help for more details:\n",
    "\n",
    "```\n",
    "~ eido -h\n",
    "```\n",
    "```\n",
    "usage: eido [-h] [-V] -p PEP -s SCHEMA [--silent] [--verbosity V] [--logdev]\n",
    "\n",
    "eido - validate project metadata against a schema\n",
    "\n",
    "optional arguments:\n",
    "  -h, --help            show this help message and exit\n",
    "  -V, --version         show program's version number and exit\n",
    "  -p PEP, --pep PEP     PEP configuration file in yaml format.\n",
    "  -s SCHEMA, --schema SCHEMA\n",
    "                        PEP schema file in yaml format.\n",
    "  --silent              Silence logging. Overrides verbosity.\n",
    "  --verbosity V         Set logging level (1-5 or logging module level name)\n",
    "  --logdev              Expand content of logging message format.\n",
    "\n",
    "https://github.com/pepkit/eido\n",
    "```\n",
    "\n",
    "Successful validation of the project is confirment with an appropriate message:\n",
    "```\n",
    "~ eido -p config.yaml -s tests/data/schemas/test_schema.yaml\n",
    "Reading sample annotations sheet: '/Users/mstolarczyk/Uczelnia/UVA/code/ppqc/ppqc_annotation_revised.csv'\n",
    "Storing sample table from file '/Users/mstolarczyk/Uczelnia/UVA/code/ppqc/ppqc_annotation_revised.csv'\n",
    "Reading subannotations: /Users/mstolarczyk/Uczelnia/UVA/code/ppqc/ppqc_subannotation.csv\n",
    "Validation successful\n",
    "```\n",
    "\n",
    "Alternatively, a `jsonschema.exceptions.ValidationError` is raised with a discrepancy description.\n",
    "\n",
    "## Python API usage"
   ]
  },
  {
   "cell_type": "code",
   "execution_count": 1,
   "metadata": {},
   "outputs": [],
   "source": [
    "from eido import validate_project\n",
    "from peppy import Project"
   ]
  },
  {
   "cell_type": "markdown",
   "metadata": {},
   "source": [
    "Within Python the `validate_project` function can be used to perform the validation. It requires `peppy.Project` object and either a path to the YAML schema file or a read schema (`dict`) as inputs."
   ]
  },
  {
   "cell_type": "code",
   "execution_count": 2,
   "metadata": {},
   "outputs": [],
   "source": [
    "p = Project(\"../tests/data/peps/test_cfg.yaml\")\n",
    "validate_project(project=p, schema=\"../tests/data/schemas/test_schema.yaml\")\n",
    "\n",
    "from eido.eido import _load_yaml\n",
    "s = _load_yaml(\"../tests/data/schemas/test_schema.yaml\")\n",
    "validate_project(project=p, schema=s)"
   ]
  },
  {
   "cell_type": "markdown",
   "metadata": {},
   "source": [
    "If a validation is successful, no message is printed. An unsuccessful one is signalized with a corresponding `jsonschema.exceptions.ValidationError`"
   ]
  },
  {
   "cell_type": "code",
   "execution_count": 3,
   "metadata": {},
   "outputs": [
    {
     "ename": "ValidationError",
     "evalue": "'invalid' is a required property\n\nFailed validating 'required' in schema:\n    {'description': 'test PEP schema',\n     'properties': {'_samples': {'items': {'properties': {'genome': {'type': 'string'},\n                                                          'protocol': {'type': 'string'},\n                                                          'sample_name': {'type': 'string'}},\n                                           'type': 'object'},\n                                 'type': 'array'},\n                    'dcc': {'properties': {'compute_packages': {'type': 'object'}},\n                            'type': 'object'},\n                    'invalid': {'type': 'string'}},\n     'required': ['dcc', '_samples', 'invalid']}\n\nOn instance:\n    {'_main_index_cols': 'sample_name',\n     '_sample_table':   sample_name protocol genome\n    0  GSM1558746      GRO   hg38\n    1  GSM1480327      PRO   hg38,\n     '_samples': [{'derived_cols_done': [],\n                   'genome': 'hg38',\n                   'merged': False,\n                   'merged_cols': PathExAttMap: {},\n                   'name': 'GSM1558746',\n                   'paths': Paths object.,\n                   'protocol': 'GRO',\n                   'required_paths': None,\n                   'results_subdir': '/Users/mstolarczyk/Uczelnia/UVA/code/eido/tests/data/peps/test/results_pipeline',\n                   'sample_name': 'GSM1558746',\n                   'sheet_attributes': ['sample_name',\n                                        'protocol',\n                                        'genome'],\n                   'yaml_file': None},\n                  {'derived_cols_done': [],\n                   'genome': 'hg38',\n                   'merged': False,\n                   'merged_cols': PathExAttMap: {},\n                   'name': 'GSM1480327',\n                   'paths': Paths object.,\n                   'protocol': 'PRO',\n                   'required_paths': None,\n                   'results_subdir': '/Users/mstolarczyk/Uczelnia/UVA/code/eido/tests/data/peps/test/results_pipeline',\n                   'sample_name': 'GSM1480327',\n                   'sheet_attributes': ['sample_name',\n                                        'protocol',\n                                        'genome'],\n                   'yaml_file': None}],\n     '_sections': {'name', 'metadata', 'implied_attributes'},\n     '_subproject': None,\n     '_subs_index_cols': ('sample_name', 'subsample_name'),\n     '_subsample_table': None,\n     'config_file': '/Users/mstolarczyk/Uczelnia/UVA/code/eido/tests/data/peps/test_cfg.yaml',\n     'constant_attributes': {},\n     'data_sources': None,\n     'dcc': {'_file_path': '/Users/mstolarczyk/Uczelnia/UVA/code/pepenv/uva_rivanna.yaml',\n             '_ro': True,\n             '_wait_time': 10,\n             'compute': {'partition': 'standard',\n                         'submission_command': 'sbatch',\n                         'submission_template': '/Users/mstolarczyk/Uczelnia/UVA/code/pepenv/templates/slurm_template.sub'},\n             'compute_packages': {'default': {'partition': 'standard',\n                                              'submission_command': 'sbatch',\n                                              'submission_template': 'templates/slurm_template.sub'},\n                                  'largemem': {'partition': 'largemem',\n                                               'submission_command': 'sbatch',\n                                               'submission_template': 'templates/slurm_template.sub'},\n                                  'local': {'submission_command': 'sh',\n                                            'submission_template': 'templates/localhost_template.sub'},\n                                  'parallel': {'partition': 'parallel',\n                                               'submission_command': 'sbatch',\n                                               'submission_template': 'templates/slurm_template.sub'},\n                                  'sigterm': {'partition': 'standard',\n                                              'submission_command': 'sbatch',\n                                              'submission_template': 'templates/slurm_sig_template.sub'},\n                                  'singularity_local': {'singularity_args': '-B '\n                                                                            '/ext:/ext',\n                                                        'submission_command': 'sh',\n                                                        'submission_template': 'templates/localhost_singularity_template.sub'},\n                                  'singularity_slurm': {'singularity_args': '-B '\n                                                                            '/sfs/lustre:/sfs/lustre,/nm/t1:/nm/t1',\n                                                        'submission_command': 'sbatch',\n                                                        'submission_template': 'templates/slurm_singularity_template.sub'}},\n             'config_file': '/Users/mstolarczyk/Uczelnia/UVA/code/pepenv/uva_rivanna.yaml'},\n     'derived_attributes': ['data_source'],\n     'file_checks': False,\n     'implied_attributes': {'organism': {'Homo sapiens': {'genome': 'hg38'}}},\n     'metadata': {'output_dir': '/Users/mstolarczyk/Uczelnia/UVA/code/eido/tests/data/peps/test',\n                  'pipeline_interfaces': [],\n                  'sample_table': '/Users/mstolarczyk/Uczelnia/UVA/code/eido/tests/data/peps/test_sample_table.csv'},\n     'name': 'test',\n     'permissive': True}",
     "output_type": "error",
     "traceback": [
      "\u001b[0;31m---------------------------------------------------------------------------\u001b[0m",
      "\u001b[0;31mValidationError\u001b[0m                           Traceback (most recent call last)",
      "\u001b[0;32m<ipython-input-3-29fa9395c52f>\u001b[0m in \u001b[0;36m<module>\u001b[0;34m\u001b[0m\n\u001b[0;32m----> 1\u001b[0;31m \u001b[0mvalidate_project\u001b[0m\u001b[0;34m(\u001b[0m\u001b[0mproject\u001b[0m\u001b[0;34m=\u001b[0m\u001b[0mp\u001b[0m\u001b[0;34m,\u001b[0m \u001b[0mschema\u001b[0m\u001b[0;34m=\u001b[0m\u001b[0;34m\"../tests/data/schemas/test_schema_invalid.yaml\"\u001b[0m\u001b[0;34m)\u001b[0m\u001b[0;34m\u001b[0m\u001b[0m\n\u001b[0m",
      "\u001b[0;32m/Library/Frameworks/Python.framework/Versions/3.6/lib/python3.6/site-packages/eido/eido.py\u001b[0m in \u001b[0;36mvalidate_project\u001b[0;34m(project, schema)\u001b[0m\n\u001b[1;32m     84\u001b[0m         \u001b[0;32mraise\u001b[0m \u001b[0mTypeError\u001b[0m\u001b[0;34m(\u001b[0m\u001b[0;34m\"schema has to be either a dict or a path to an existing file\"\u001b[0m\u001b[0;34m)\u001b[0m\u001b[0;34m\u001b[0m\u001b[0m\n\u001b[1;32m     85\u001b[0m     \u001b[0mproject_dict\u001b[0m \u001b[0;34m=\u001b[0m \u001b[0mproject\u001b[0m\u001b[0;34m.\u001b[0m\u001b[0mto_dict\u001b[0m\u001b[0;34m(\u001b[0m\u001b[0;34m)\u001b[0m\u001b[0;34m\u001b[0m\u001b[0m\n\u001b[0;32m---> 86\u001b[0;31m     \u001b[0mjsonschema\u001b[0m\u001b[0;34m.\u001b[0m\u001b[0mvalidate\u001b[0m\u001b[0;34m(\u001b[0m\u001b[0mproject_dict\u001b[0m\u001b[0;34m,\u001b[0m \u001b[0m_preprocess_schema\u001b[0m\u001b[0;34m(\u001b[0m\u001b[0mschema_dict\u001b[0m\u001b[0;34m)\u001b[0m\u001b[0;34m)\u001b[0m\u001b[0;34m\u001b[0m\u001b[0m\n\u001b[0m\u001b[1;32m     87\u001b[0m \u001b[0;34m\u001b[0m\u001b[0m\n\u001b[1;32m     88\u001b[0m \u001b[0;34m\u001b[0m\u001b[0m\n",
      "\u001b[0;32m~/Library/Python/3.6/lib/python/site-packages/jsonschema/validators.py\u001b[0m in \u001b[0;36mvalidate\u001b[0;34m(instance, schema, cls, *args, **kwargs)\u001b[0m\n\u001b[1;32m    897\u001b[0m     \u001b[0merror\u001b[0m \u001b[0;34m=\u001b[0m \u001b[0mexceptions\u001b[0m\u001b[0;34m.\u001b[0m\u001b[0mbest_match\u001b[0m\u001b[0;34m(\u001b[0m\u001b[0mvalidator\u001b[0m\u001b[0;34m.\u001b[0m\u001b[0miter_errors\u001b[0m\u001b[0;34m(\u001b[0m\u001b[0minstance\u001b[0m\u001b[0;34m)\u001b[0m\u001b[0;34m)\u001b[0m\u001b[0;34m\u001b[0m\u001b[0m\n\u001b[1;32m    898\u001b[0m     \u001b[0;32mif\u001b[0m \u001b[0merror\u001b[0m \u001b[0;32mis\u001b[0m \u001b[0;32mnot\u001b[0m \u001b[0;32mNone\u001b[0m\u001b[0;34m:\u001b[0m\u001b[0;34m\u001b[0m\u001b[0m\n\u001b[0;32m--> 899\u001b[0;31m         \u001b[0;32mraise\u001b[0m \u001b[0merror\u001b[0m\u001b[0;34m\u001b[0m\u001b[0m\n\u001b[0m\u001b[1;32m    900\u001b[0m \u001b[0;34m\u001b[0m\u001b[0m\n\u001b[1;32m    901\u001b[0m \u001b[0;34m\u001b[0m\u001b[0m\n",
      "\u001b[0;31mValidationError\u001b[0m: 'invalid' is a required property\n\nFailed validating 'required' in schema:\n    {'description': 'test PEP schema',\n     'properties': {'_samples': {'items': {'properties': {'genome': {'type': 'string'},\n                                                          'protocol': {'type': 'string'},\n                                                          'sample_name': {'type': 'string'}},\n                                           'type': 'object'},\n                                 'type': 'array'},\n                    'dcc': {'properties': {'compute_packages': {'type': 'object'}},\n                            'type': 'object'},\n                    'invalid': {'type': 'string'}},\n     'required': ['dcc', '_samples', 'invalid']}\n\nOn instance:\n    {'_main_index_cols': 'sample_name',\n     '_sample_table':   sample_name protocol genome\n    0  GSM1558746      GRO   hg38\n    1  GSM1480327      PRO   hg38,\n     '_samples': [{'derived_cols_done': [],\n                   'genome': 'hg38',\n                   'merged': False,\n                   'merged_cols': PathExAttMap: {},\n                   'name': 'GSM1558746',\n                   'paths': Paths object.,\n                   'protocol': 'GRO',\n                   'required_paths': None,\n                   'results_subdir': '/Users/mstolarczyk/Uczelnia/UVA/code/eido/tests/data/peps/test/results_pipeline',\n                   'sample_name': 'GSM1558746',\n                   'sheet_attributes': ['sample_name',\n                                        'protocol',\n                                        'genome'],\n                   'yaml_file': None},\n                  {'derived_cols_done': [],\n                   'genome': 'hg38',\n                   'merged': False,\n                   'merged_cols': PathExAttMap: {},\n                   'name': 'GSM1480327',\n                   'paths': Paths object.,\n                   'protocol': 'PRO',\n                   'required_paths': None,\n                   'results_subdir': '/Users/mstolarczyk/Uczelnia/UVA/code/eido/tests/data/peps/test/results_pipeline',\n                   'sample_name': 'GSM1480327',\n                   'sheet_attributes': ['sample_name',\n                                        'protocol',\n                                        'genome'],\n                   'yaml_file': None}],\n     '_sections': {'name', 'metadata', 'implied_attributes'},\n     '_subproject': None,\n     '_subs_index_cols': ('sample_name', 'subsample_name'),\n     '_subsample_table': None,\n     'config_file': '/Users/mstolarczyk/Uczelnia/UVA/code/eido/tests/data/peps/test_cfg.yaml',\n     'constant_attributes': {},\n     'data_sources': None,\n     'dcc': {'_file_path': '/Users/mstolarczyk/Uczelnia/UVA/code/pepenv/uva_rivanna.yaml',\n             '_ro': True,\n             '_wait_time': 10,\n             'compute': {'partition': 'standard',\n                         'submission_command': 'sbatch',\n                         'submission_template': '/Users/mstolarczyk/Uczelnia/UVA/code/pepenv/templates/slurm_template.sub'},\n             'compute_packages': {'default': {'partition': 'standard',\n                                              'submission_command': 'sbatch',\n                                              'submission_template': 'templates/slurm_template.sub'},\n                                  'largemem': {'partition': 'largemem',\n                                               'submission_command': 'sbatch',\n                                               'submission_template': 'templates/slurm_template.sub'},\n                                  'local': {'submission_command': 'sh',\n                                            'submission_template': 'templates/localhost_template.sub'},\n                                  'parallel': {'partition': 'parallel',\n                                               'submission_command': 'sbatch',\n                                               'submission_template': 'templates/slurm_template.sub'},\n                                  'sigterm': {'partition': 'standard',\n                                              'submission_command': 'sbatch',\n                                              'submission_template': 'templates/slurm_sig_template.sub'},\n                                  'singularity_local': {'singularity_args': '-B '\n                                                                            '/ext:/ext',\n                                                        'submission_command': 'sh',\n                                                        'submission_template': 'templates/localhost_singularity_template.sub'},\n                                  'singularity_slurm': {'singularity_args': '-B '\n                                                                            '/sfs/lustre:/sfs/lustre,/nm/t1:/nm/t1',\n                                                        'submission_command': 'sbatch',\n                                                        'submission_template': 'templates/slurm_singularity_template.sub'}},\n             'config_file': '/Users/mstolarczyk/Uczelnia/UVA/code/pepenv/uva_rivanna.yaml'},\n     'derived_attributes': ['data_source'],\n     'file_checks': False,\n     'implied_attributes': {'organism': {'Homo sapiens': {'genome': 'hg38'}}},\n     'metadata': {'output_dir': '/Users/mstolarczyk/Uczelnia/UVA/code/eido/tests/data/peps/test',\n                  'pipeline_interfaces': [],\n                  'sample_table': '/Users/mstolarczyk/Uczelnia/UVA/code/eido/tests/data/peps/test_sample_table.csv'},\n     'name': 'test',\n     'permissive': True}"
     ]
    }
   ],
   "source": [
    "validate_project(project=p, schema=\"../tests/data/schemas/test_schema_invalid.yaml\")"
   ]
  },
  {
   "cell_type": "code",
   "execution_count": null,
   "metadata": {},
   "outputs": [],
   "source": []
  }
 ],
 "metadata": {
  "kernelspec": {
   "display_name": "Python 3",
   "language": "python",
   "name": "python3"
  },
  "language_info": {
   "codemirror_mode": {
    "name": "ipython",
    "version": 3
   },
   "file_extension": ".py",
   "mimetype": "text/x-python",
   "name": "python",
   "nbconvert_exporter": "python",
   "pygments_lexer": "ipython3",
   "version": "3.6.5"
  }
 },
 "nbformat": 4,
 "nbformat_minor": 2
}
